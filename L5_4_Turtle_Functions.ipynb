{
  "nbformat": 4,
  "nbformat_minor": 0,
  "metadata": {
    "colab": {
      "provenance": [],
      "toc_visible": true,
      "authorship_tag": "ABX9TyNCTL2Bc8j4JXNcl+36PXBz",
      "include_colab_link": true
    },
    "kernelspec": {
      "name": "python3",
      "display_name": "Python 3"
    },
    "language_info": {
      "name": "python"
    }
  },
  "cells": [
    {
      "cell_type": "markdown",
      "metadata": {
        "id": "view-in-github",
        "colab_type": "text"
      },
      "source": [
        "<a href=\"https://colab.research.google.com/github/lasantha13/AdminLTE/blob/master/L5_4_Turtle_Functions.ipynb\" target=\"_parent\"><img src=\"https://colab.research.google.com/assets/colab-badge.svg\" alt=\"Open In Colab\"/></a>"
      ]
    },
    {
      "cell_type": "markdown",
      "source": [
        "## Turtle 03 - Loos and Nested loops\n",
        "\n",
        "\n",
        "\n",
        "*   Nested Loops\n",
        "*   Function\n",
        "\n",
        "\n",
        "\n"
      ],
      "metadata": {
        "id": "_KkP7ipom_HR"
      }
    },
    {
      "cell_type": "code",
      "source": [],
      "metadata": {
        "id": "JvMlutX4ob3a"
      },
      "execution_count": null,
      "outputs": []
    },
    {
      "cell_type": "code",
      "execution_count": 1,
      "metadata": {
        "colab": {
          "base_uri": "https://localhost:8080/"
        },
        "id": "AJd2PjcemySd",
        "outputId": "8b2e5dd4-7912-4ee0-913d-70e7f21e7eef"
      },
      "outputs": [
        {
          "output_type": "stream",
          "name": "stdout",
          "text": [
            "Collecting ColabTurtle\n",
            "  Downloading ColabTurtle-2.1.0.tar.gz (6.8 kB)\n",
            "  Preparing metadata (setup.py) ... \u001b[?25l\u001b[?25hdone\n",
            "Building wheels for collected packages: ColabTurtle\n",
            "  Building wheel for ColabTurtle (setup.py) ... \u001b[?25l\u001b[?25hdone\n",
            "  Created wheel for ColabTurtle: filename=ColabTurtle-2.1.0-py3-none-any.whl size=7642 sha256=8851bef697383e0bbf8e944fa71ffb8ca07c0a48ecf42592ae375cd210e48a1a\n",
            "  Stored in directory: /root/.cache/pip/wheels/5b/86/e8/54f5c8c853606e3a3060bb2e60363cbed632374a12e0f33ffc\n",
            "Successfully built ColabTurtle\n",
            "Installing collected packages: ColabTurtle\n",
            "Successfully installed ColabTurtle-2.1.0\n"
          ]
        }
      ],
      "source": [
        "#1. Install Turtle\n",
        "!pip3 install ColabTurtle\n",
        "#2. Import Turtle\n",
        "from ColabTurtle.Turtle import *\n"
      ]
    },
    {
      "cell_type": "markdown",
      "source": [
        "### Nested loop"
      ],
      "metadata": {
        "id": "uZhXijFSodQC"
      }
    },
    {
      "cell_type": "code",
      "source": [
        "initializeTurtle()\n",
        "#1 Simple Loop\n",
        "x =100\n",
        "y= 120\n",
        "penup()\n",
        "setpos(x,y)\n",
        "pendown()\n",
        "face(0)\n",
        "for i in range (4):\n",
        "  forward(100)\n",
        "  left(90)"
      ],
      "metadata": {
        "colab": {
          "base_uri": "https://localhost:8080/",
          "height": 521
        },
        "id": "xY6wT3tV1e5k",
        "outputId": "c2bb7561-6a26-4470-f638-e383d6164f13"
      },
      "execution_count": 5,
      "outputs": [
        {
          "output_type": "display_data",
          "data": {
            "text/plain": [
              "<IPython.core.display.HTML object>"
            ],
            "text/html": [
              "\n",
              "      <svg width=\"800\" height=\"500\">\n",
              "        <rect width=\"100%\" height=\"100%\" fill=\"black\"/>\n",
              "        <line x1=\"100\" y1=\"120\" x2=\"200.0\" y2=\"120.0\" stroke-linecap=\"round\" style=\"stroke:white;stroke-width:4\"/><line x1=\"200.0\" y1=\"120.0\" x2=\"200.0\" y2=\"20.0\" stroke-linecap=\"round\" style=\"stroke:white;stroke-width:4\"/><line x1=\"200.0\" y1=\"20.0\" x2=\"100.0\" y2=\"20.0\" stroke-linecap=\"round\" style=\"stroke:white;stroke-width:4\"/><line x1=\"100.0\" y1=\"20.0\" x2=\"100.0\" y2=\"120.0\" stroke-linecap=\"round\" style=\"stroke:white;stroke-width:4\"/>\n",
              "        <g visibility=visible transform=\"rotate(90,100.0,120.0) translate(82.0, 102.0)\">\n",
              "<path style=\" stroke:none;fill-rule:evenodd;fill:white;fill-opacity:1;\" d=\"M 18.214844 0.632812 C 16.109375 1.800781 15.011719 4.074219 15.074219 7.132812 L 15.085938 7.652344 L 14.785156 7.496094 C 13.476562 6.824219 11.957031 6.671875 10.40625 7.066406 C 8.46875 7.550781 6.515625 9.15625 4.394531 11.992188 C 3.0625 13.777344 2.679688 14.636719 3.042969 15.027344 L 3.15625 15.152344 L 3.519531 15.152344 C 4.238281 15.152344 4.828125 14.886719 8.1875 13.039062 C 9.386719 12.378906 10.371094 11.839844 10.378906 11.839844 C 10.386719 11.839844 10.355469 11.929688 10.304688 12.035156 C 9.832031 13.09375 9.257812 14.820312 8.96875 16.078125 C 7.914062 20.652344 8.617188 24.53125 11.070312 27.660156 C 11.351562 28.015625 11.363281 27.914062 10.972656 28.382812 C 8.925781 30.84375 7.945312 33.28125 8.238281 35.1875 C 8.289062 35.527344 8.28125 35.523438 8.917969 35.523438 C 10.941406 35.523438 13.074219 34.207031 15.136719 31.6875 C 15.359375 31.417969 15.328125 31.425781 15.5625 31.574219 C 16.292969 32.042969 18.023438 32.964844 18.175781 32.964844 C 18.335938 32.964844 19.941406 32.210938 20.828125 31.71875 C 20.996094 31.625 21.136719 31.554688 21.136719 31.558594 C 21.203125 31.664062 21.898438 32.414062 22.222656 32.730469 C 23.835938 34.300781 25.5625 35.132812 27.582031 35.300781 C 27.90625 35.328125 27.9375 35.308594 28.007812 34.984375 C 28.382812 33.242188 27.625 30.925781 25.863281 28.425781 L 25.542969 27.96875 L 25.699219 27.785156 C 28.945312 23.960938 29.132812 18.699219 26.257812 11.96875 L 26.207031 11.84375 L 27.945312 12.703125 C 31.53125 14.476562 32.316406 14.800781 33.03125 14.800781 C 33.976562 14.800781 33.78125 13.9375 32.472656 12.292969 C 28.519531 7.355469 25.394531 5.925781 21.921875 7.472656 L 21.558594 7.636719 L 21.578125 7.542969 C 21.699219 6.992188 21.761719 5.742188 21.699219 5.164062 C 21.496094 3.296875 20.664062 1.964844 19.003906 0.855469 C 18.480469 0.503906 18.457031 0.5 18.214844 0.632812\"/>\n",
              "</g>\n",
              "      </svg>\n",
              "    "
            ]
          },
          "metadata": {}
        }
      ]
    },
    {
      "cell_type": "code",
      "source": [
        "initializeTurtle()\n",
        "#2 add nested Loop\n",
        "x =100\n",
        "y= 120\n",
        "for i in range(4):\n",
        "  penup()\n",
        "  setpos(x,y)\n",
        "  pendown()\n",
        "  face(0)\n",
        "  for i in range (4):\n",
        "    forward(100)\n",
        "    left(90)\n",
        "  x =x+100"
      ],
      "metadata": {
        "colab": {
          "base_uri": "https://localhost:8080/",
          "height": 521
        },
        "id": "lDunZQw81zbs",
        "outputId": "ca77254a-320a-421d-f8f2-55a26c9ee4b3"
      },
      "execution_count": 7,
      "outputs": [
        {
          "output_type": "display_data",
          "data": {
            "text/plain": [
              "<IPython.core.display.HTML object>"
            ],
            "text/html": [
              "\n",
              "      <svg width=\"800\" height=\"500\">\n",
              "        <rect width=\"100%\" height=\"100%\" fill=\"black\"/>\n",
              "        <line x1=\"100\" y1=\"120\" x2=\"200.0\" y2=\"120.0\" stroke-linecap=\"round\" style=\"stroke:white;stroke-width:4\"/><line x1=\"200.0\" y1=\"120.0\" x2=\"200.0\" y2=\"20.0\" stroke-linecap=\"round\" style=\"stroke:white;stroke-width:4\"/><line x1=\"200.0\" y1=\"20.0\" x2=\"100.0\" y2=\"20.0\" stroke-linecap=\"round\" style=\"stroke:white;stroke-width:4\"/><line x1=\"100.0\" y1=\"20.0\" x2=\"100.0\" y2=\"120.0\" stroke-linecap=\"round\" style=\"stroke:white;stroke-width:4\"/><line x1=\"200\" y1=\"120\" x2=\"300.0\" y2=\"120.0\" stroke-linecap=\"round\" style=\"stroke:white;stroke-width:4\"/><line x1=\"300.0\" y1=\"120.0\" x2=\"300.0\" y2=\"20.0\" stroke-linecap=\"round\" style=\"stroke:white;stroke-width:4\"/><line x1=\"300.0\" y1=\"20.0\" x2=\"200.0\" y2=\"20.0\" stroke-linecap=\"round\" style=\"stroke:white;stroke-width:4\"/><line x1=\"200.0\" y1=\"20.0\" x2=\"200.0\" y2=\"120.0\" stroke-linecap=\"round\" style=\"stroke:white;stroke-width:4\"/><line x1=\"300\" y1=\"120\" x2=\"400.0\" y2=\"120.0\" stroke-linecap=\"round\" style=\"stroke:white;stroke-width:4\"/><line x1=\"400.0\" y1=\"120.0\" x2=\"400.0\" y2=\"20.0\" stroke-linecap=\"round\" style=\"stroke:white;stroke-width:4\"/><line x1=\"400.0\" y1=\"20.0\" x2=\"300.0\" y2=\"20.0\" stroke-linecap=\"round\" style=\"stroke:white;stroke-width:4\"/><line x1=\"300.0\" y1=\"20.0\" x2=\"300.0\" y2=\"120.0\" stroke-linecap=\"round\" style=\"stroke:white;stroke-width:4\"/><line x1=\"400\" y1=\"120\" x2=\"500.0\" y2=\"120.0\" stroke-linecap=\"round\" style=\"stroke:white;stroke-width:4\"/><line x1=\"500.0\" y1=\"120.0\" x2=\"500.0\" y2=\"20.0\" stroke-linecap=\"round\" style=\"stroke:white;stroke-width:4\"/><line x1=\"500.0\" y1=\"20.0\" x2=\"400.0\" y2=\"20.0\" stroke-linecap=\"round\" style=\"stroke:white;stroke-width:4\"/><line x1=\"400.0\" y1=\"20.0\" x2=\"400.0\" y2=\"120.0\" stroke-linecap=\"round\" style=\"stroke:white;stroke-width:4\"/>\n",
              "        <g visibility=visible transform=\"rotate(90,400.0,120.0) translate(382.0, 102.0)\">\n",
              "<path style=\" stroke:none;fill-rule:evenodd;fill:white;fill-opacity:1;\" d=\"M 18.214844 0.632812 C 16.109375 1.800781 15.011719 4.074219 15.074219 7.132812 L 15.085938 7.652344 L 14.785156 7.496094 C 13.476562 6.824219 11.957031 6.671875 10.40625 7.066406 C 8.46875 7.550781 6.515625 9.15625 4.394531 11.992188 C 3.0625 13.777344 2.679688 14.636719 3.042969 15.027344 L 3.15625 15.152344 L 3.519531 15.152344 C 4.238281 15.152344 4.828125 14.886719 8.1875 13.039062 C 9.386719 12.378906 10.371094 11.839844 10.378906 11.839844 C 10.386719 11.839844 10.355469 11.929688 10.304688 12.035156 C 9.832031 13.09375 9.257812 14.820312 8.96875 16.078125 C 7.914062 20.652344 8.617188 24.53125 11.070312 27.660156 C 11.351562 28.015625 11.363281 27.914062 10.972656 28.382812 C 8.925781 30.84375 7.945312 33.28125 8.238281 35.1875 C 8.289062 35.527344 8.28125 35.523438 8.917969 35.523438 C 10.941406 35.523438 13.074219 34.207031 15.136719 31.6875 C 15.359375 31.417969 15.328125 31.425781 15.5625 31.574219 C 16.292969 32.042969 18.023438 32.964844 18.175781 32.964844 C 18.335938 32.964844 19.941406 32.210938 20.828125 31.71875 C 20.996094 31.625 21.136719 31.554688 21.136719 31.558594 C 21.203125 31.664062 21.898438 32.414062 22.222656 32.730469 C 23.835938 34.300781 25.5625 35.132812 27.582031 35.300781 C 27.90625 35.328125 27.9375 35.308594 28.007812 34.984375 C 28.382812 33.242188 27.625 30.925781 25.863281 28.425781 L 25.542969 27.96875 L 25.699219 27.785156 C 28.945312 23.960938 29.132812 18.699219 26.257812 11.96875 L 26.207031 11.84375 L 27.945312 12.703125 C 31.53125 14.476562 32.316406 14.800781 33.03125 14.800781 C 33.976562 14.800781 33.78125 13.9375 32.472656 12.292969 C 28.519531 7.355469 25.394531 5.925781 21.921875 7.472656 L 21.558594 7.636719 L 21.578125 7.542969 C 21.699219 6.992188 21.761719 5.742188 21.699219 5.164062 C 21.496094 3.296875 20.664062 1.964844 19.003906 0.855469 C 18.480469 0.503906 18.457031 0.5 18.214844 0.632812\"/>\n",
              "</g>\n",
              "      </svg>\n",
              "    "
            ]
          },
          "metadata": {}
        }
      ]
    },
    {
      "cell_type": "markdown",
      "source": [
        "#### create follow diragram using nested loop"
      ],
      "metadata": {
        "id": "Cpojj1qz213O"
      }
    },
    {
      "cell_type": "markdown",
      "source": [],
      "metadata": {
        "id": "jLHzxMkw9Mlj"
      }
    },
    {
      "cell_type": "markdown",
      "source": [
        "![image.png](data:image/png;base64,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)"
      ],
      "metadata": {
        "id": "RzTu4swc3fGV"
      }
    },
    {
      "cell_type": "code",
      "source": [
        "initializeTurtle()\n",
        "#2 add nested Loop\n",
        "x =100\n",
        "y= 120\n",
        "for i in range(4):\n",
        "  penup()\n",
        "  setpos(x,y)\n",
        "  pendown()\n",
        "  face(0)\n",
        "  for i in range (4):\n",
        "    forward(100)\n",
        "    left(90)\n",
        "  y =y+100"
      ],
      "metadata": {
        "colab": {
          "base_uri": "https://localhost:8080/",
          "height": 521
        },
        "id": "zT-B2EnQ3iEk",
        "outputId": "89a7f2c6-d34a-491c-aa22-040bd3562fc6"
      },
      "execution_count": 8,
      "outputs": [
        {
          "output_type": "display_data",
          "data": {
            "text/plain": [
              "<IPython.core.display.HTML object>"
            ],
            "text/html": [
              "\n",
              "      <svg width=\"800\" height=\"500\">\n",
              "        <rect width=\"100%\" height=\"100%\" fill=\"black\"/>\n",
              "        <line x1=\"100\" y1=\"120\" x2=\"200.0\" y2=\"120.0\" stroke-linecap=\"round\" style=\"stroke:white;stroke-width:4\"/><line x1=\"200.0\" y1=\"120.0\" x2=\"200.0\" y2=\"20.0\" stroke-linecap=\"round\" style=\"stroke:white;stroke-width:4\"/><line x1=\"200.0\" y1=\"20.0\" x2=\"100.0\" y2=\"20.0\" stroke-linecap=\"round\" style=\"stroke:white;stroke-width:4\"/><line x1=\"100.0\" y1=\"20.0\" x2=\"100.0\" y2=\"120.0\" stroke-linecap=\"round\" style=\"stroke:white;stroke-width:4\"/><line x1=\"100\" y1=\"220\" x2=\"200.0\" y2=\"220.0\" stroke-linecap=\"round\" style=\"stroke:white;stroke-width:4\"/><line x1=\"200.0\" y1=\"220.0\" x2=\"200.0\" y2=\"120.0\" stroke-linecap=\"round\" style=\"stroke:white;stroke-width:4\"/><line x1=\"200.0\" y1=\"120.0\" x2=\"100.0\" y2=\"120.0\" stroke-linecap=\"round\" style=\"stroke:white;stroke-width:4\"/><line x1=\"100.0\" y1=\"120.0\" x2=\"100.0\" y2=\"220.0\" stroke-linecap=\"round\" style=\"stroke:white;stroke-width:4\"/><line x1=\"100\" y1=\"320\" x2=\"200.0\" y2=\"320.0\" stroke-linecap=\"round\" style=\"stroke:white;stroke-width:4\"/><line x1=\"200.0\" y1=\"320.0\" x2=\"200.0\" y2=\"220.0\" stroke-linecap=\"round\" style=\"stroke:white;stroke-width:4\"/><line x1=\"200.0\" y1=\"220.0\" x2=\"100.0\" y2=\"220.0\" stroke-linecap=\"round\" style=\"stroke:white;stroke-width:4\"/><line x1=\"100.0\" y1=\"220.0\" x2=\"100.0\" y2=\"320.0\" stroke-linecap=\"round\" style=\"stroke:white;stroke-width:4\"/><line x1=\"100\" y1=\"420\" x2=\"200.0\" y2=\"420.0\" stroke-linecap=\"round\" style=\"stroke:white;stroke-width:4\"/><line x1=\"200.0\" y1=\"420.0\" x2=\"200.0\" y2=\"320.0\" stroke-linecap=\"round\" style=\"stroke:white;stroke-width:4\"/><line x1=\"200.0\" y1=\"320.0\" x2=\"100.0\" y2=\"320.0\" stroke-linecap=\"round\" style=\"stroke:white;stroke-width:4\"/><line x1=\"100.0\" y1=\"320.0\" x2=\"100.0\" y2=\"420.0\" stroke-linecap=\"round\" style=\"stroke:white;stroke-width:4\"/>\n",
              "        <g visibility=visible transform=\"rotate(90,100.0,420.0) translate(82.0, 402.0)\">\n",
              "<path style=\" stroke:none;fill-rule:evenodd;fill:white;fill-opacity:1;\" d=\"M 18.214844 0.632812 C 16.109375 1.800781 15.011719 4.074219 15.074219 7.132812 L 15.085938 7.652344 L 14.785156 7.496094 C 13.476562 6.824219 11.957031 6.671875 10.40625 7.066406 C 8.46875 7.550781 6.515625 9.15625 4.394531 11.992188 C 3.0625 13.777344 2.679688 14.636719 3.042969 15.027344 L 3.15625 15.152344 L 3.519531 15.152344 C 4.238281 15.152344 4.828125 14.886719 8.1875 13.039062 C 9.386719 12.378906 10.371094 11.839844 10.378906 11.839844 C 10.386719 11.839844 10.355469 11.929688 10.304688 12.035156 C 9.832031 13.09375 9.257812 14.820312 8.96875 16.078125 C 7.914062 20.652344 8.617188 24.53125 11.070312 27.660156 C 11.351562 28.015625 11.363281 27.914062 10.972656 28.382812 C 8.925781 30.84375 7.945312 33.28125 8.238281 35.1875 C 8.289062 35.527344 8.28125 35.523438 8.917969 35.523438 C 10.941406 35.523438 13.074219 34.207031 15.136719 31.6875 C 15.359375 31.417969 15.328125 31.425781 15.5625 31.574219 C 16.292969 32.042969 18.023438 32.964844 18.175781 32.964844 C 18.335938 32.964844 19.941406 32.210938 20.828125 31.71875 C 20.996094 31.625 21.136719 31.554688 21.136719 31.558594 C 21.203125 31.664062 21.898438 32.414062 22.222656 32.730469 C 23.835938 34.300781 25.5625 35.132812 27.582031 35.300781 C 27.90625 35.328125 27.9375 35.308594 28.007812 34.984375 C 28.382812 33.242188 27.625 30.925781 25.863281 28.425781 L 25.542969 27.96875 L 25.699219 27.785156 C 28.945312 23.960938 29.132812 18.699219 26.257812 11.96875 L 26.207031 11.84375 L 27.945312 12.703125 C 31.53125 14.476562 32.316406 14.800781 33.03125 14.800781 C 33.976562 14.800781 33.78125 13.9375 32.472656 12.292969 C 28.519531 7.355469 25.394531 5.925781 21.921875 7.472656 L 21.558594 7.636719 L 21.578125 7.542969 C 21.699219 6.992188 21.761719 5.742188 21.699219 5.164062 C 21.496094 3.296875 20.664062 1.964844 19.003906 0.855469 C 18.480469 0.503906 18.457031 0.5 18.214844 0.632812\"/>\n",
              "</g>\n",
              "      </svg>\n",
              "    "
            ]
          },
          "metadata": {}
        }
      ]
    },
    {
      "cell_type": "markdown",
      "source": [
        "#### Exercise draw this dragram"
      ],
      "metadata": {
        "id": "kF3R2xFT3sCv"
      }
    },
    {
      "cell_type": "markdown",
      "source": [
        "![image.png](data:image/png;base64,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)"
      ],
      "metadata": {
        "id": "ugaMMniR9OR3"
      }
    },
    {
      "cell_type": "markdown",
      "source": [
        "### Function\n"
      ],
      "metadata": {
        "id": "wzGgtlblosnb"
      }
    },
    {
      "cell_type": "markdown",
      "source": [],
      "metadata": {
        "id": "dKGfiwsypFYZ"
      }
    },
    {
      "cell_type": "code",
      "source": [
        "#1. Define a function\n",
        "def square(length):\n",
        "  forward(length)\n",
        "  left(90)\n",
        "  forward(length)\n",
        "  left(90)\n",
        "  forward(length)\n",
        "  left(90)\n",
        "  forward(length)"
      ],
      "metadata": {
        "id": "JmTkbRrxoXu3"
      },
      "execution_count": null,
      "outputs": []
    },
    {
      "cell_type": "code",
      "source": [
        "initializeTurtle(initial_window_size=(400,300))\n",
        "square(100)\n",
        "\n"
      ],
      "metadata": {
        "colab": {
          "base_uri": "https://localhost:8080/",
          "height": 321
        },
        "id": "JgrOckTNozIZ",
        "outputId": "adbae943-81b2-4343-84a9-06fa8463b0fb"
      },
      "execution_count": null,
      "outputs": [
        {
          "output_type": "display_data",
          "data": {
            "text/plain": [
              "<IPython.core.display.HTML object>"
            ],
            "text/html": [
              "\n",
              "      <svg width=\"400\" height=\"300\">\n",
              "        <rect width=\"100%\" height=\"100%\" fill=\"black\"/>\n",
              "        <line x1=\"200\" y1=\"150\" x2=\"200.0\" y2=\"50.0\" stroke-linecap=\"round\" style=\"stroke:white;stroke-width:4\"/><line x1=\"200.0\" y1=\"50.0\" x2=\"100.0\" y2=\"50.0\" stroke-linecap=\"round\" style=\"stroke:white;stroke-width:4\"/><line x1=\"100.0\" y1=\"50.0\" x2=\"100.0\" y2=\"150.0\" stroke-linecap=\"round\" style=\"stroke:white;stroke-width:4\"/><line x1=\"100.0\" y1=\"150.0\" x2=\"200.0\" y2=\"150.0\" stroke-linecap=\"round\" style=\"stroke:white;stroke-width:4\"/>\n",
              "        <g visibility=visible transform=\"rotate(90,200.0,150.0) translate(182.0, 132.0)\">\n",
              "<path style=\" stroke:none;fill-rule:evenodd;fill:white;fill-opacity:1;\" d=\"M 18.214844 0.632812 C 16.109375 1.800781 15.011719 4.074219 15.074219 7.132812 L 15.085938 7.652344 L 14.785156 7.496094 C 13.476562 6.824219 11.957031 6.671875 10.40625 7.066406 C 8.46875 7.550781 6.515625 9.15625 4.394531 11.992188 C 3.0625 13.777344 2.679688 14.636719 3.042969 15.027344 L 3.15625 15.152344 L 3.519531 15.152344 C 4.238281 15.152344 4.828125 14.886719 8.1875 13.039062 C 9.386719 12.378906 10.371094 11.839844 10.378906 11.839844 C 10.386719 11.839844 10.355469 11.929688 10.304688 12.035156 C 9.832031 13.09375 9.257812 14.820312 8.96875 16.078125 C 7.914062 20.652344 8.617188 24.53125 11.070312 27.660156 C 11.351562 28.015625 11.363281 27.914062 10.972656 28.382812 C 8.925781 30.84375 7.945312 33.28125 8.238281 35.1875 C 8.289062 35.527344 8.28125 35.523438 8.917969 35.523438 C 10.941406 35.523438 13.074219 34.207031 15.136719 31.6875 C 15.359375 31.417969 15.328125 31.425781 15.5625 31.574219 C 16.292969 32.042969 18.023438 32.964844 18.175781 32.964844 C 18.335938 32.964844 19.941406 32.210938 20.828125 31.71875 C 20.996094 31.625 21.136719 31.554688 21.136719 31.558594 C 21.203125 31.664062 21.898438 32.414062 22.222656 32.730469 C 23.835938 34.300781 25.5625 35.132812 27.582031 35.300781 C 27.90625 35.328125 27.9375 35.308594 28.007812 34.984375 C 28.382812 33.242188 27.625 30.925781 25.863281 28.425781 L 25.542969 27.96875 L 25.699219 27.785156 C 28.945312 23.960938 29.132812 18.699219 26.257812 11.96875 L 26.207031 11.84375 L 27.945312 12.703125 C 31.53125 14.476562 32.316406 14.800781 33.03125 14.800781 C 33.976562 14.800781 33.78125 13.9375 32.472656 12.292969 C 28.519531 7.355469 25.394531 5.925781 21.921875 7.472656 L 21.558594 7.636719 L 21.578125 7.542969 C 21.699219 6.992188 21.761719 5.742188 21.699219 5.164062 C 21.496094 3.296875 20.664062 1.964844 19.003906 0.855469 C 18.480469 0.503906 18.457031 0.5 18.214844 0.632812\"/>\n",
              "</g>\n",
              "      </svg>\n",
              "    "
            ]
          },
          "metadata": {}
        }
      ]
    },
    {
      "cell_type": "code",
      "source": [
        "penup()\n",
        "  setpos(x,y)\n",
        "  pendown()\n",
        "  forward(length)\n",
        "  left(90)\n",
        "  forward(width)\n",
        "  left(90)\n",
        "  forward(length)\n",
        "  left(90)\n",
        "  forward(width)"
      ],
      "metadata": {
        "id": "m0l3w9qGpM48"
      },
      "execution_count": null,
      "outputs": []
    },
    {
      "cell_type": "markdown",
      "source": [
        "#### 1. Create function to draw square using for loop"
      ],
      "metadata": {
        "id": "har-ckZJpnKu"
      }
    },
    {
      "cell_type": "code",
      "source": [
        "def square(length):\n",
        "  for i in range(4):\n",
        "    forward(length)\n",
        "    left(90)"
      ],
      "metadata": {
        "id": "UN8Yjt2bplao"
      },
      "execution_count": null,
      "outputs": []
    },
    {
      "cell_type": "code",
      "source": [
        "initializeTurtle(initial_window_size=(400,300))\n",
        "square(100)"
      ],
      "metadata": {
        "colab": {
          "base_uri": "https://localhost:8080/",
          "height": 321
        },
        "id": "0VDffTUMp9Lv",
        "outputId": "bce41004-80b1-44b0-ecbf-52d0b375aa71"
      },
      "execution_count": null,
      "outputs": [
        {
          "output_type": "display_data",
          "data": {
            "text/plain": [
              "<IPython.core.display.HTML object>"
            ],
            "text/html": [
              "\n",
              "      <svg width=\"400\" height=\"300\">\n",
              "        <rect width=\"100%\" height=\"100%\" fill=\"black\"/>\n",
              "        <line x1=\"200\" y1=\"150\" x2=\"200.0\" y2=\"50.0\" stroke-linecap=\"round\" style=\"stroke:white;stroke-width:4\"/><line x1=\"200.0\" y1=\"50.0\" x2=\"100.0\" y2=\"50.0\" stroke-linecap=\"round\" style=\"stroke:white;stroke-width:4\"/><line x1=\"100.0\" y1=\"50.0\" x2=\"100.0\" y2=\"150.0\" stroke-linecap=\"round\" style=\"stroke:white;stroke-width:4\"/><line x1=\"100.0\" y1=\"150.0\" x2=\"200.0\" y2=\"150.0\" stroke-linecap=\"round\" style=\"stroke:white;stroke-width:4\"/>\n",
              "        <g visibility=visible transform=\"rotate(360,200.0,150.0) translate(182.0, 132.0)\">\n",
              "<path style=\" stroke:none;fill-rule:evenodd;fill:white;fill-opacity:1;\" d=\"M 18.214844 0.632812 C 16.109375 1.800781 15.011719 4.074219 15.074219 7.132812 L 15.085938 7.652344 L 14.785156 7.496094 C 13.476562 6.824219 11.957031 6.671875 10.40625 7.066406 C 8.46875 7.550781 6.515625 9.15625 4.394531 11.992188 C 3.0625 13.777344 2.679688 14.636719 3.042969 15.027344 L 3.15625 15.152344 L 3.519531 15.152344 C 4.238281 15.152344 4.828125 14.886719 8.1875 13.039062 C 9.386719 12.378906 10.371094 11.839844 10.378906 11.839844 C 10.386719 11.839844 10.355469 11.929688 10.304688 12.035156 C 9.832031 13.09375 9.257812 14.820312 8.96875 16.078125 C 7.914062 20.652344 8.617188 24.53125 11.070312 27.660156 C 11.351562 28.015625 11.363281 27.914062 10.972656 28.382812 C 8.925781 30.84375 7.945312 33.28125 8.238281 35.1875 C 8.289062 35.527344 8.28125 35.523438 8.917969 35.523438 C 10.941406 35.523438 13.074219 34.207031 15.136719 31.6875 C 15.359375 31.417969 15.328125 31.425781 15.5625 31.574219 C 16.292969 32.042969 18.023438 32.964844 18.175781 32.964844 C 18.335938 32.964844 19.941406 32.210938 20.828125 31.71875 C 20.996094 31.625 21.136719 31.554688 21.136719 31.558594 C 21.203125 31.664062 21.898438 32.414062 22.222656 32.730469 C 23.835938 34.300781 25.5625 35.132812 27.582031 35.300781 C 27.90625 35.328125 27.9375 35.308594 28.007812 34.984375 C 28.382812 33.242188 27.625 30.925781 25.863281 28.425781 L 25.542969 27.96875 L 25.699219 27.785156 C 28.945312 23.960938 29.132812 18.699219 26.257812 11.96875 L 26.207031 11.84375 L 27.945312 12.703125 C 31.53125 14.476562 32.316406 14.800781 33.03125 14.800781 C 33.976562 14.800781 33.78125 13.9375 32.472656 12.292969 C 28.519531 7.355469 25.394531 5.925781 21.921875 7.472656 L 21.558594 7.636719 L 21.578125 7.542969 C 21.699219 6.992188 21.761719 5.742188 21.699219 5.164062 C 21.496094 3.296875 20.664062 1.964844 19.003906 0.855469 C 18.480469 0.503906 18.457031 0.5 18.214844 0.632812\"/>\n",
              "</g>\n",
              "      </svg>\n",
              "    "
            ]
          },
          "metadata": {}
        }
      ]
    },
    {
      "cell_type": "markdown",
      "source": [
        "#### 2. create funtion with arugment as x, y value and lenght\n"
      ],
      "metadata": {
        "id": "Ds6WOvC2qIM7"
      }
    },
    {
      "cell_type": "code",
      "source": [
        "def square(length, x,y):\n",
        "  penup()\n",
        "  setpos(x,y)\n",
        "  pendown()\n",
        "  for i in range(4):\n",
        "    forward(length)\n",
        "    left(90)\n"
      ],
      "metadata": {
        "id": "3k0QqyZgqXI7"
      },
      "execution_count": null,
      "outputs": []
    },
    {
      "cell_type": "code",
      "source": [
        "initializeTurtle(initial_window_size=(400,300))\n",
        "square(100,300,150)\n",
        "square(50,300,150)"
      ],
      "metadata": {
        "colab": {
          "base_uri": "https://localhost:8080/",
          "height": 321
        },
        "id": "srpsNHMLqVyb",
        "outputId": "b8d6d37a-250e-4133-a7cc-d7e8f5155cfd"
      },
      "execution_count": null,
      "outputs": [
        {
          "output_type": "display_data",
          "data": {
            "text/plain": [
              "<IPython.core.display.HTML object>"
            ],
            "text/html": [
              "\n",
              "      <svg width=\"400\" height=\"300\">\n",
              "        <rect width=\"100%\" height=\"100%\" fill=\"black\"/>\n",
              "        <line x1=\"300\" y1=\"150\" x2=\"300.0\" y2=\"50.0\" stroke-linecap=\"round\" style=\"stroke:white;stroke-width:4\"/><line x1=\"300.0\" y1=\"50.0\" x2=\"200.0\" y2=\"50.0\" stroke-linecap=\"round\" style=\"stroke:white;stroke-width:4\"/><line x1=\"200.0\" y1=\"50.0\" x2=\"200.0\" y2=\"150.0\" stroke-linecap=\"round\" style=\"stroke:white;stroke-width:4\"/><line x1=\"200.0\" y1=\"150.0\" x2=\"300.0\" y2=\"150.0\" stroke-linecap=\"round\" style=\"stroke:white;stroke-width:4\"/><line x1=\"300\" y1=\"150\" x2=\"300.0\" y2=\"100.0\" stroke-linecap=\"round\" style=\"stroke:white;stroke-width:4\"/><line x1=\"300.0\" y1=\"100.0\" x2=\"250.0\" y2=\"100.0\" stroke-linecap=\"round\" style=\"stroke:white;stroke-width:4\"/><line x1=\"250.0\" y1=\"100.0\" x2=\"250.0\" y2=\"150.0\" stroke-linecap=\"round\" style=\"stroke:white;stroke-width:4\"/><line x1=\"250.0\" y1=\"150.0\" x2=\"300.0\" y2=\"150.0\" stroke-linecap=\"round\" style=\"stroke:white;stroke-width:4\"/>\n",
              "        <g visibility=visible transform=\"rotate(360,300.0,150.0) translate(282.0, 132.0)\">\n",
              "<path style=\" stroke:none;fill-rule:evenodd;fill:white;fill-opacity:1;\" d=\"M 18.214844 0.632812 C 16.109375 1.800781 15.011719 4.074219 15.074219 7.132812 L 15.085938 7.652344 L 14.785156 7.496094 C 13.476562 6.824219 11.957031 6.671875 10.40625 7.066406 C 8.46875 7.550781 6.515625 9.15625 4.394531 11.992188 C 3.0625 13.777344 2.679688 14.636719 3.042969 15.027344 L 3.15625 15.152344 L 3.519531 15.152344 C 4.238281 15.152344 4.828125 14.886719 8.1875 13.039062 C 9.386719 12.378906 10.371094 11.839844 10.378906 11.839844 C 10.386719 11.839844 10.355469 11.929688 10.304688 12.035156 C 9.832031 13.09375 9.257812 14.820312 8.96875 16.078125 C 7.914062 20.652344 8.617188 24.53125 11.070312 27.660156 C 11.351562 28.015625 11.363281 27.914062 10.972656 28.382812 C 8.925781 30.84375 7.945312 33.28125 8.238281 35.1875 C 8.289062 35.527344 8.28125 35.523438 8.917969 35.523438 C 10.941406 35.523438 13.074219 34.207031 15.136719 31.6875 C 15.359375 31.417969 15.328125 31.425781 15.5625 31.574219 C 16.292969 32.042969 18.023438 32.964844 18.175781 32.964844 C 18.335938 32.964844 19.941406 32.210938 20.828125 31.71875 C 20.996094 31.625 21.136719 31.554688 21.136719 31.558594 C 21.203125 31.664062 21.898438 32.414062 22.222656 32.730469 C 23.835938 34.300781 25.5625 35.132812 27.582031 35.300781 C 27.90625 35.328125 27.9375 35.308594 28.007812 34.984375 C 28.382812 33.242188 27.625 30.925781 25.863281 28.425781 L 25.542969 27.96875 L 25.699219 27.785156 C 28.945312 23.960938 29.132812 18.699219 26.257812 11.96875 L 26.207031 11.84375 L 27.945312 12.703125 C 31.53125 14.476562 32.316406 14.800781 33.03125 14.800781 C 33.976562 14.800781 33.78125 13.9375 32.472656 12.292969 C 28.519531 7.355469 25.394531 5.925781 21.921875 7.472656 L 21.558594 7.636719 L 21.578125 7.542969 C 21.699219 6.992188 21.761719 5.742188 21.699219 5.164062 C 21.496094 3.296875 20.664062 1.964844 19.003906 0.855469 C 18.480469 0.503906 18.457031 0.5 18.214844 0.632812\"/>\n",
              "</g>\n",
              "      </svg>\n",
              "    "
            ]
          },
          "metadata": {}
        }
      ]
    },
    {
      "cell_type": "markdown",
      "source": [
        "#### 3. Exersise create function to draw rectangle with different colors"
      ],
      "metadata": {
        "id": "hMHU7kfMrD6t"
      }
    },
    {
      "cell_type": "code",
      "source": [
        "def rectangle(length,width,x,y,col):\n",
        "  penup()\n",
        "  setpos(x,y)\n",
        "  pendown()\n",
        "  face(0)\n",
        "  for i in range(2):\n",
        "    color(col)\n",
        "    forward(length)\n",
        "    left(90)\n",
        "    forward(width)\n",
        "    left(90)\n"
      ],
      "metadata": {
        "id": "AAUrN8EmrK9b"
      },
      "execution_count": null,
      "outputs": []
    },
    {
      "cell_type": "code",
      "source": [
        "initializeTurtle(initial_window_size=(400,300))\n",
        "rectangle(100,60,150,100,'red')\n",
        "rectangle(120,70,200,60,'yellow')"
      ],
      "metadata": {
        "colab": {
          "base_uri": "https://localhost:8080/",
          "height": 321
        },
        "id": "Xq1DJZmAvIvg",
        "outputId": "30d3e042-4ea4-4d78-8dfc-c8b147f3818f"
      },
      "execution_count": null,
      "outputs": [
        {
          "output_type": "display_data",
          "data": {
            "text/plain": [
              "<IPython.core.display.HTML object>"
            ],
            "text/html": [
              "\n",
              "      <svg width=\"400\" height=\"300\">\n",
              "        <rect width=\"100%\" height=\"100%\" fill=\"black\"/>\n",
              "        <line x1=\"150\" y1=\"100\" x2=\"250.0\" y2=\"100.0\" stroke-linecap=\"round\" style=\"stroke:red;stroke-width:4\"/><line x1=\"250.0\" y1=\"100.0\" x2=\"250.0\" y2=\"40.0\" stroke-linecap=\"round\" style=\"stroke:red;stroke-width:4\"/><line x1=\"250.0\" y1=\"40.0\" x2=\"150.0\" y2=\"40.0\" stroke-linecap=\"round\" style=\"stroke:red;stroke-width:4\"/><line x1=\"150.0\" y1=\"40.0\" x2=\"150.0\" y2=\"100.0\" stroke-linecap=\"round\" style=\"stroke:red;stroke-width:4\"/><line x1=\"150.0\" y1=\"100.0\" x2=\"250.0\" y2=\"100.0\" stroke-linecap=\"round\" style=\"stroke:red;stroke-width:4\"/><line x1=\"250.0\" y1=\"100.0\" x2=\"250.0\" y2=\"40.0\" stroke-linecap=\"round\" style=\"stroke:red;stroke-width:4\"/><line x1=\"200\" y1=\"60\" x2=\"320.0\" y2=\"60.0\" stroke-linecap=\"round\" style=\"stroke:yellow;stroke-width:4\"/><line x1=\"320.0\" y1=\"60.0\" x2=\"320.0\" y2=\"-10.0\" stroke-linecap=\"round\" style=\"stroke:yellow;stroke-width:4\"/><line x1=\"320.0\" y1=\"-10.0\" x2=\"200.0\" y2=\"-10.0\" stroke-linecap=\"round\" style=\"stroke:yellow;stroke-width:4\"/><line x1=\"200.0\" y1=\"-10.0\" x2=\"200.0\" y2=\"60.0\" stroke-linecap=\"round\" style=\"stroke:yellow;stroke-width:4\"/><line x1=\"200.0\" y1=\"60.0\" x2=\"320.0\" y2=\"60.0\" stroke-linecap=\"round\" style=\"stroke:yellow;stroke-width:4\"/><line x1=\"320.0\" y1=\"60.0\" x2=\"320.0\" y2=\"-10.0\" stroke-linecap=\"round\" style=\"stroke:yellow;stroke-width:4\"/>\n",
              "        <g visibility=visible transform=\"rotate(270,320.0,-10.0) translate(302.0, -28.0)\">\n",
              "<path style=\" stroke:none;fill-rule:evenodd;fill:yellow;fill-opacity:1;\" d=\"M 18.214844 0.632812 C 16.109375 1.800781 15.011719 4.074219 15.074219 7.132812 L 15.085938 7.652344 L 14.785156 7.496094 C 13.476562 6.824219 11.957031 6.671875 10.40625 7.066406 C 8.46875 7.550781 6.515625 9.15625 4.394531 11.992188 C 3.0625 13.777344 2.679688 14.636719 3.042969 15.027344 L 3.15625 15.152344 L 3.519531 15.152344 C 4.238281 15.152344 4.828125 14.886719 8.1875 13.039062 C 9.386719 12.378906 10.371094 11.839844 10.378906 11.839844 C 10.386719 11.839844 10.355469 11.929688 10.304688 12.035156 C 9.832031 13.09375 9.257812 14.820312 8.96875 16.078125 C 7.914062 20.652344 8.617188 24.53125 11.070312 27.660156 C 11.351562 28.015625 11.363281 27.914062 10.972656 28.382812 C 8.925781 30.84375 7.945312 33.28125 8.238281 35.1875 C 8.289062 35.527344 8.28125 35.523438 8.917969 35.523438 C 10.941406 35.523438 13.074219 34.207031 15.136719 31.6875 C 15.359375 31.417969 15.328125 31.425781 15.5625 31.574219 C 16.292969 32.042969 18.023438 32.964844 18.175781 32.964844 C 18.335938 32.964844 19.941406 32.210938 20.828125 31.71875 C 20.996094 31.625 21.136719 31.554688 21.136719 31.558594 C 21.203125 31.664062 21.898438 32.414062 22.222656 32.730469 C 23.835938 34.300781 25.5625 35.132812 27.582031 35.300781 C 27.90625 35.328125 27.9375 35.308594 28.007812 34.984375 C 28.382812 33.242188 27.625 30.925781 25.863281 28.425781 L 25.542969 27.96875 L 25.699219 27.785156 C 28.945312 23.960938 29.132812 18.699219 26.257812 11.96875 L 26.207031 11.84375 L 27.945312 12.703125 C 31.53125 14.476562 32.316406 14.800781 33.03125 14.800781 C 33.976562 14.800781 33.78125 13.9375 32.472656 12.292969 C 28.519531 7.355469 25.394531 5.925781 21.921875 7.472656 L 21.558594 7.636719 L 21.578125 7.542969 C 21.699219 6.992188 21.761719 5.742188 21.699219 5.164062 C 21.496094 3.296875 20.664062 1.964844 19.003906 0.855469 C 18.480469 0.503906 18.457031 0.5 18.214844 0.632812\"/>\n",
              "</g>\n",
              "      </svg>\n",
              "    "
            ]
          },
          "metadata": {}
        }
      ]
    },
    {
      "cell_type": "markdown",
      "source": [],
      "metadata": {
        "id": "qaHDHnFK32pO"
      }
    },
    {
      "cell_type": "markdown",
      "source": [
        "#### Exercise : Wrtite function using nested loops"
      ],
      "metadata": {
        "id": "vanwR1ZZ9RZM"
      }
    },
    {
      "cell_type": "markdown",
      "source": [
        "![image.png](data:image/png;base64,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)"
      ],
      "metadata": {
        "id": "0NsksI8U3_tn"
      }
    },
    {
      "cell_type": "markdown",
      "source": [
        "![image.png](data:image/png;base64,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)"
      ],
      "metadata": {
        "id": "i2ZAzTxD9XrD"
      }
    },
    {
      "cell_type": "code",
      "source": [],
      "metadata": {
        "id": "C5zBXVTN9PX8"
      },
      "execution_count": null,
      "outputs": []
    }
  ]
}